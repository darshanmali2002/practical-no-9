{
  "nbformat": 4,
  "nbformat_minor": 0,
  "metadata": {
    "colab": {
      "name": "practical 9.ipynb",
      "provenance": []
    },
    "kernelspec": {
      "name": "python3",
      "display_name": "Python 3"
    },
    "language_info": {
      "name": "python"
    }
  },
  "cells": [
    {
      "cell_type": "markdown",
      "source": [
        "\n",
        "Write a python program to convert temperatures to and from Celsius,Fahrenheit."
      ],
      "metadata": {
        "id": "5w28EEaJyMuP"
      }
    },
    {
      "cell_type": "code",
      "source": [
        "print(\"Options are \\n\")\n",
        "print(\"1.Convert temperatures from Celsius to Fahrenheit \\n\")\n",
        "print(\"2.Convert temperatures from Fahrenheit to Celsius \\n\")\n",
        "opt=int(input(\"Choose any Option(1 or 2) : \"))\n",
        "if opt == 1:\n",
        "    print(\"Convert temperatures from Celsius to Fahrenheit \\n\")\n",
        "    cel = float(input(\"Enter Temperature in Celsius: \"))\n",
        "    fahr = (cel*9/5)+32\n",
        "    print(\"Temperature in Fahrenheit =\",fahr)\n",
        "elif opt == 2:\n",
        "    print(\"Convert temperatures from Fahrenheit to Celsius \\n\")\n",
        "    fahr = float(input(\"Enter Temperature in Fahrenheit: \"))\n",
        "    cel=(fahr-32)*5/9;\n",
        "    print(\"Temperature in Celsius =\",cel)\n",
        "else:\n",
        "    print(\"Invalid Option\")"
      ],
      "metadata": {
        "colab": {
          "base_uri": "https://localhost:8080/"
        },
        "id": "zBn6gPigyR52",
        "outputId": "d86b678a-7002-4531-c303-675be7d4cd82"
      },
      "execution_count": 1,
      "outputs": [
        {
          "output_type": "stream",
          "name": "stdout",
          "text": [
            "Options are \n",
            "\n",
            "1.Convert temperatures from Celsius to Fahrenheit \n",
            "\n",
            "2.Convert temperatures from Fahrenheit to Celsius \n",
            "\n",
            "Choose any Option(1 or 2) : 25\n",
            "Invalid Option\n"
          ]
        }
      ]
    }
  ]
}